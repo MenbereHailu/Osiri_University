{
 "cells": [
  {
   "cell_type": "markdown",
   "id": "fd747a69-0931-43ed-9be1-8a60b5805b64",
   "metadata": {},
   "source": [
    "# Take home assignment week 1 session 2\n",
    "1. **Variables:**\n",
    "   - Create three variables store a float, an integer, and a string sentence the word \"Ghana\" in there\n",
    "   - Join or concatenate the variables to form a meaningful sentences and store it in a variable called \"sentence_1\"\n",
    "   - Replace the word \"Ghana\" with any country of your choice\n",
    "   - Split the sentence on the spaces and print the 5th and last words\n"
   ]
  },
  {
   "cell_type": "code",
   "execution_count": 4,
   "id": "85064041",
   "metadata": {},
   "outputs": [
    {
     "data": {
      "text/plain": [
       "(1.5, 25, 'Ghana')"
      ]
     },
     "execution_count": 4,
     "metadata": {},
     "output_type": "execute_result"
    }
   ],
   "source": [
    "x=1.50\n",
    "y=25\n",
    "z='Ghana'\n",
    "x,y,z"
   ]
  },
  {
   "cell_type": "code",
   "execution_count": 7,
   "id": "52bc987a",
   "metadata": {},
   "outputs": [
    {
     "data": {
      "text/plain": [
       "'He is from Ghana, he is 25years old and 1.5cm long.'"
      ]
     },
     "execution_count": 7,
     "metadata": {},
     "output_type": "execute_result"
    }
   ],
   "source": [
    "sentence_1=f\"He is from {z}, he is {y }years old and {x}cm long.\"\n",
    "sentence_1"
   ]
  },
  {
   "cell_type": "code",
   "execution_count": 9,
   "id": "bdb8b6ba",
   "metadata": {},
   "outputs": [
    {
     "data": {
      "text/plain": [
       "'He is from Ethiopia, he is 25years old and 1.5cm long.'"
      ]
     },
     "execution_count": 9,
     "metadata": {},
     "output_type": "execute_result"
    }
   ],
   "source": [
    "sentence_1=sentence_1.replace('Ghana','Ethiopia')\n",
    "sentence_1\n"
   ]
  },
  {
   "cell_type": "code",
   "execution_count": 14,
   "id": "d936698e",
   "metadata": {},
   "outputs": [
    {
     "data": {
      "text/plain": [
       "['He',\n",
       " 'is',\n",
       " 'from',\n",
       " 'Ethiopia,',\n",
       " 'he',\n",
       " 'is',\n",
       " '25years',\n",
       " 'old',\n",
       " 'and',\n",
       " '1.5cm',\n",
       " 'long.']"
      ]
     },
     "execution_count": 14,
     "metadata": {},
     "output_type": "execute_result"
    }
   ],
   "source": [
    "split_sentence=sentence_1.split(' ')\n",
    "split_sentence"
   ]
  },
  {
   "cell_type": "code",
   "execution_count": 15,
   "id": "e87e9902",
   "metadata": {},
   "outputs": [
    {
     "data": {
      "text/plain": [
       "('he', 'long.')"
      ]
     },
     "execution_count": 15,
     "metadata": {},
     "output_type": "execute_result"
    }
   ],
   "source": [
    "split_sentence[4],split_sentence[-1]"
   ]
  },
  {
   "cell_type": "code",
   "execution_count": 16,
   "id": "160826e0",
   "metadata": {},
   "outputs": [
    {
     "data": {
      "text/plain": [
       "'is'"
      ]
     },
     "execution_count": 16,
     "metadata": {},
     "output_type": "execute_result"
    }
   ],
   "source": []
  },
  {
   "cell_type": "markdown",
   "id": "7d261125",
   "metadata": {},
   "source": [
    "1. **Creating a list:**\n",
    "   - Create a list of 5 fruits and print it.\n",
    "   - Create a list of even numbers from 20 to 40 using a list comprehension.\n",
    "\n",
    "2. **Accessing elements:**\n",
    "   - Access and print the third fruit in the list.\n",
    "   - Print the first and last elements of the list.\n",
    "\n",
    "3. **Modifying elements:**\n",
    "   - Change the second fruit in the list to a different fruit.\n",
    "   - Add a new fruit to the end of the list.\n",
    "\n",
    "4. **Iterating through elements:**\n",
    "   - Use a `for` loop to print each fruit in the list, followed by its length.\n",
    "   - Use a `while` loop to print each even number in a list in reverse order.\n",
    "\n",
    "5. **List operations:**\n",
    "   - Sort the list of fruits alphabetically.\n",
    "   - Find the index of the first occurrence of a specific fruit in the list.\n",
    "   - Create a new list containing only the fruits that start with the letter \"A\"."
   ]
  },
  {
   "cell_type": "code",
   "execution_count": 18,
   "id": "cf109d0e",
   "metadata": {},
   "outputs": [
    {
     "data": {
      "text/plain": [
       "['banana', 'orange', 'Mango', 'watermillon', 'apple']"
      ]
     },
     "execution_count": 18,
     "metadata": {},
     "output_type": "execute_result"
    }
   ],
   "source": [
    "##1. \n",
    "fruit=[\"banana\",\"orange\",\"Mango\",\"watermillon\",\"apple\"]\n",
    "fruit"
   ]
  },
  {
   "cell_type": "code",
   "execution_count": 19,
   "id": "6d223d95",
   "metadata": {},
   "outputs": [
    {
     "data": {
      "text/plain": [
       "[20, 22, 24, 26, 28, 30, 32, 34, 36, 38]"
      ]
     },
     "execution_count": 19,
     "metadata": {},
     "output_type": "execute_result"
    }
   ],
   "source": [
    "even_number=[x for x in range(20,40) if x%2==0]\n",
    "even_number"
   ]
  },
  {
   "cell_type": "code",
   "execution_count": 20,
   "id": "3f87c20e",
   "metadata": {},
   "outputs": [
    {
     "data": {
      "text/plain": [
       "'Mango'"
      ]
     },
     "execution_count": 20,
     "metadata": {},
     "output_type": "execute_result"
    }
   ],
   "source": [
    "#2. \n",
    "fruit[2]"
   ]
  },
  {
   "cell_type": "code",
   "execution_count": 21,
   "id": "faf5eb65",
   "metadata": {},
   "outputs": [
    {
     "name": "stdout",
     "output_type": "stream",
     "text": [
      "banana apple\n"
     ]
    }
   ],
   "source": [
    " print(fruit[0],fruit[-1])"
   ]
  },
  {
   "cell_type": "code",
   "execution_count": 22,
   "id": "6901d876",
   "metadata": {},
   "outputs": [
    {
     "name": "stdout",
     "output_type": "stream",
     "text": [
      "20 38\n"
     ]
    }
   ],
   "source": [
    "print(even_number[0],even_number[-1])"
   ]
  },
  {
   "cell_type": "code",
   "execution_count": null,
   "id": "5d034783",
   "metadata": {},
   "outputs": [],
   "source": [
    "#3. \n",
    "fruit[1]=\"avacado\"\n",
    "fruit[1]"
   ]
  },
  {
   "cell_type": "code",
   "execution_count": 23,
   "id": "22958ed6",
   "metadata": {},
   "outputs": [
    {
     "data": {
      "text/plain": [
       "['banana', 'orange', 'Mango', 'watermillon', 'apple', 'strawbwry']"
      ]
     },
     "execution_count": 23,
     "metadata": {},
     "output_type": "execute_result"
    }
   ],
   "source": [
    "fruit.append('strawbwry')\n",
    "fruit"
   ]
  },
  {
   "cell_type": "code",
   "execution_count": 24,
   "id": "e60af012",
   "metadata": {},
   "outputs": [
    {
     "name": "stdout",
     "output_type": "stream",
     "text": [
      "banana 6\n",
      "orange 6\n",
      "Mango 5\n",
      "watermillon 11\n",
      "apple 5\n",
      "strawbwry 9\n"
     ]
    }
   ],
   "source": [
    "#4. \n",
    "for fruits in fruit:\n",
    "    print(fruits,len(fruits))"
   ]
  },
  {
   "cell_type": "code",
   "execution_count": 26,
   "id": "eb903e0c",
   "metadata": {},
   "outputs": [
    {
     "data": {
      "text/plain": [
       "[38, 36, 34, 32, 30, 28, 26, 24, 22, 20]"
      ]
     },
     "execution_count": 26,
     "metadata": {},
     "output_type": "execute_result"
    }
   ],
   "source": [
    "i=len(even_number)-1\n",
    "even_rev=[]\n",
    "while i>=0:\n",
    "    even_rev.append(even_number[i])\n",
    "    i=i-1\n",
    "even_rev"
   ]
  },
  {
   "cell_type": "code",
   "execution_count": 31,
   "id": "02031558",
   "metadata": {},
   "outputs": [
    {
     "data": {
      "text/plain": [
       "['Mango', 'apple', 'banana', 'orange', 'strawbwry', 'watermillon']"
      ]
     },
     "execution_count": 31,
     "metadata": {},
     "output_type": "execute_result"
    }
   ],
   "source": [
    "# 5. \n",
    "fruit.sort()\n",
    "fruit"
   ]
  },
  {
   "cell_type": "code",
   "execution_count": 34,
   "id": "ca13f67e",
   "metadata": {},
   "outputs": [
    {
     "data": {
      "text/plain": [
       "0"
      ]
     },
     "execution_count": 34,
     "metadata": {},
     "output_type": "execute_result"
    }
   ],
   "source": [
    "fruit.index('Mango')"
   ]
  },
  {
   "cell_type": "code",
   "execution_count": 35,
   "id": "c9689b8b",
   "metadata": {},
   "outputs": [
    {
     "data": {
      "text/plain": [
       "[]"
      ]
     },
     "execution_count": 35,
     "metadata": {},
     "output_type": "execute_result"
    }
   ],
   "source": [
    "new_fruit=[newf for newf in fruit if newf[0]=='A']\n",
    "new_fruit"
   ]
  },
  {
   "cell_type": "code",
   "execution_count": null,
   "id": "02bfeacf",
   "metadata": {},
   "outputs": [],
   "source": []
  },
  {
   "cell_type": "markdown",
   "id": "b00614b1-ed72-4928-a8ef-a494ea567f00",
   "metadata": {},
   "source": [
    "1. **Creating a tuple:**\n",
    "   - Create a tuple containing a person's name, age, and city.\n",
    "   - Create a tuple of coordinates (x, y) using tuple packing.\n",
    "\n",
    "2. **Accessing elements:**\n",
    "   - Access and print the person's age from the tuple.\n",
    "   - Print the x-coordinate from the tuple of coordinates.\n",
    "\n",
    "3. **Iterating through elements:**\n",
    "   - Use a `for` loop to print each element in the tuple, including its index.\n",
    "\n",
    "4. **Tuple immutability:**\n",
    "   - Demonstrate that you cannot modify elements of a tuple directly."
   ]
  },
  {
   "cell_type": "code",
   "execution_count": 37,
   "id": "5c7ca0b7",
   "metadata": {},
   "outputs": [
    {
     "data": {
      "text/plain": [
       "('kaleab', 25, 'Addis Ababa')"
      ]
     },
     "execution_count": 37,
     "metadata": {},
     "output_type": "execute_result"
    }
   ],
   "source": [
    "#1. \n",
    "information=('kaleab',25,'Addis Ababa')\n",
    "information"
   ]
  },
  {
   "cell_type": "code",
   "execution_count": 41,
   "id": "e1f57fa4",
   "metadata": {},
   "outputs": [
    {
     "data": {
      "text/plain": [
       "(2, 4)"
      ]
     },
     "execution_count": 41,
     "metadata": {},
     "output_type": "execute_result"
    }
   ],
   "source": [
    "coordinates=(2,4)\n",
    "coordinates"
   ]
  },
  {
   "cell_type": "code",
   "execution_count": 39,
   "id": "0a1ca444",
   "metadata": {},
   "outputs": [
    {
     "data": {
      "text/plain": [
       "25"
      ]
     },
     "execution_count": 39,
     "metadata": {},
     "output_type": "execute_result"
    }
   ],
   "source": [
    "#2\n",
    "information[1]"
   ]
  },
  {
   "cell_type": "code",
   "execution_count": 44,
   "id": "a89a0ed4",
   "metadata": {},
   "outputs": [
    {
     "name": "stdout",
     "output_type": "stream",
     "text": [
      "2\n",
      "4\n"
     ]
    }
   ],
   "source": [
    "x,y=coordinates\n",
    "print(x)\n",
    "print(y)"
   ]
  },
  {
   "cell_type": "code",
   "execution_count": 47,
   "id": "c4719689",
   "metadata": {},
   "outputs": [
    {
     "name": "stdout",
     "output_type": "stream",
     "text": [
      "kaleab\n",
      "25\n",
      "Addis Ababa\n"
     ]
    }
   ],
   "source": [
    "#3. \n",
    "for i in information:\n",
    "    print(i)"
   ]
  },
  {
   "cell_type": "code",
   "execution_count": 48,
   "id": "ef1888df",
   "metadata": {},
   "outputs": [
    {
     "ename": "TypeError",
     "evalue": "'tuple' object does not support item assignment",
     "output_type": "error",
     "traceback": [
      "\u001b[1;31m---------------------------------------------------------------------------\u001b[0m",
      "\u001b[1;31mTypeError\u001b[0m                                 Traceback (most recent call last)",
      "Cell \u001b[1;32mIn[48], line 2\u001b[0m\n\u001b[0;32m      1\u001b[0m \u001b[38;5;66;03m#4\u001b[39;00m\n\u001b[1;32m----> 2\u001b[0m \u001b[43minformation\u001b[49m\u001b[43m[\u001b[49m\u001b[38;5;241;43m0\u001b[39;49m\u001b[43m]\u001b[49m\u001b[38;5;241m=\u001b[39m\u001b[38;5;124m'\u001b[39m\u001b[38;5;124mMenbere\u001b[39m\u001b[38;5;124m'\u001b[39m\n",
      "\u001b[1;31mTypeError\u001b[0m: 'tuple' object does not support item assignment"
     ]
    }
   ],
   "source": [
    "#4\n",
    "information[0]='Menbere'"
   ]
  },
  {
   "cell_type": "markdown",
   "id": "f211353f-4bd8-4c9e-893f-d818c4599917",
   "metadata": {},
   "source": [
    "1. **Creating a dictionary:**\n",
    "   - Create a dictionary to store information about a book (title, author, year).\n",
    "   - Create a dictionary to store the prices of different fruits.\n",
    "\n",
    "2. **Accessing and adding items:**\n",
    "   - Access and print the author of the book.\n",
    "   - Add a new item to the dictionary with the book's ISBN number.\n",
    "\n",
    "3. **Iterating through items:**\n",
    "   - Use a `for` loop to print each key-value pair in the dictionary.\n",
    "   - Print only the keys in the dictionary.\n",
    "   - Print only the values in the dictionary.\n",
    "\n",
    "4. **Dictionary operations:**\n",
    "   - Check if a specific key exists in the dictionary.\n",
    "   - Get a list of all keys in the dictionary.\n",
    "   - Get a list of all values in the dictionary.\n",
    "   - Remove an item from the dictionary by its key."
   ]
  },
  {
   "cell_type": "code",
   "execution_count": 52,
   "id": "1b9d0157",
   "metadata": {},
   "outputs": [
    {
     "data": {
      "text/plain": [
       "{'Mango': 30, 'banana': 10, 'strawebery': 20}"
      ]
     },
     "execution_count": 52,
     "metadata": {},
     "output_type": "execute_result"
    }
   ],
   "source": [
    "#1\n",
    "book={'title':'dertogada','author':'kaleb','year':2013}\n",
    "fruit_price={'Mango':30,'banana':10,'strawebery':20}\n"
   ]
  },
  {
   "cell_type": "code",
   "execution_count": 54,
   "id": "121ac240",
   "metadata": {},
   "outputs": [
    {
     "name": "stdout",
     "output_type": "stream",
     "text": [
      "{'title': 'dertogada', 'author': 'kaleb', 'year': 2013}\n",
      "{'Mango': 30, 'banana': 10, 'strawebery': 20}\n"
     ]
    }
   ],
   "source": [
    "print(book)\n",
    "print(fruit_price)"
   ]
  },
  {
   "cell_type": "code",
   "execution_count": 55,
   "id": "f9528c0d",
   "metadata": {},
   "outputs": [
    {
     "data": {
      "text/plain": [
       "'kaleb'"
      ]
     },
     "execution_count": 55,
     "metadata": {},
     "output_type": "execute_result"
    }
   ],
   "source": [
    "book['author']"
   ]
  },
  {
   "cell_type": "code",
   "execution_count": 57,
   "id": "a3a107e7",
   "metadata": {},
   "outputs": [
    {
     "data": {
      "text/plain": [
       "{'title': 'dertogada', 'author': 'kaleb', 'year': 2013, 'ISBN': 'DER2345'}"
      ]
     },
     "execution_count": 57,
     "metadata": {},
     "output_type": "execute_result"
    }
   ],
   "source": [
    "book['ISBN']='DER2345'\n",
    "book"
   ]
  },
  {
   "cell_type": "code",
   "execution_count": 65,
   "id": "e865ea2a",
   "metadata": {},
   "outputs": [
    {
     "name": "stdout",
     "output_type": "stream",
     "text": [
      "title dertogada\n",
      "author kaleb\n",
      "year 2013\n",
      "ISBN DER2345\n"
     ]
    }
   ],
   "source": [
    "#3\n",
    "for key in book:\n",
    "    print(key,book[key])"
   ]
  },
  {
   "cell_type": "code",
   "execution_count": 67,
   "id": "d8d8b518",
   "metadata": {},
   "outputs": [
    {
     "data": {
      "text/plain": [
       "dict_keys(['title', 'author', 'year', 'ISBN'])"
      ]
     },
     "execution_count": 67,
     "metadata": {},
     "output_type": "execute_result"
    }
   ],
   "source": [
    "book.keys()"
   ]
  },
  {
   "cell_type": "code",
   "execution_count": 68,
   "id": "69791c9c",
   "metadata": {},
   "outputs": [
    {
     "data": {
      "text/plain": [
       "dict_values(['dertogada', 'kaleb', 2013, 'DER2345'])"
      ]
     },
     "execution_count": 68,
     "metadata": {},
     "output_type": "execute_result"
    }
   ],
   "source": [
    "book.values()"
   ]
  },
  {
   "cell_type": "code",
   "execution_count": 71,
   "id": "db1a98e1",
   "metadata": {},
   "outputs": [
    {
     "name": "stdout",
     "output_type": "stream",
     "text": [
      "got it!\n"
     ]
    }
   ],
   "source": [
    "if 'title' in book:\n",
    "    print('got it!')\n",
    "else:\n",
    "    print('Not found')"
   ]
  },
  {
   "cell_type": "code",
   "execution_count": 72,
   "id": "994fa549",
   "metadata": {},
   "outputs": [
    {
     "name": "stdout",
     "output_type": "stream",
     "text": [
      "got it!\n"
     ]
    }
   ],
   "source": [
    "if book.get('author'):\n",
    "    print('got it!')\n",
    "else:\n",
    "    print('Not found')"
   ]
  },
  {
   "cell_type": "code",
   "execution_count": 73,
   "id": "4c91906b",
   "metadata": {},
   "outputs": [
    {
     "data": {
      "text/plain": [
       "dict_keys(['title', 'author', 'year', 'ISBN'])"
      ]
     },
     "execution_count": 73,
     "metadata": {},
     "output_type": "execute_result"
    }
   ],
   "source": [
    "book.keys()"
   ]
  },
  {
   "cell_type": "code",
   "execution_count": 74,
   "id": "770f48e9",
   "metadata": {},
   "outputs": [
    {
     "data": {
      "text/plain": [
       "dict_values(['dertogada', 'kaleb', 2013, 'DER2345'])"
      ]
     },
     "execution_count": 74,
     "metadata": {},
     "output_type": "execute_result"
    }
   ],
   "source": [
    "book.values()"
   ]
  },
  {
   "cell_type": "code",
   "execution_count": 82,
   "id": "aca7ed0e",
   "metadata": {},
   "outputs": [],
   "source": [
    "del book['ISBN']\n"
   ]
  },
  {
   "cell_type": "code",
   "execution_count": 83,
   "id": "e9dc29c0",
   "metadata": {},
   "outputs": [
    {
     "data": {
      "text/plain": [
       "{'title': 'dertogada', 'author': 'kaleb', 'year': 2013}"
      ]
     },
     "execution_count": 83,
     "metadata": {},
     "output_type": "execute_result"
    }
   ],
   "source": [
    "book"
   ]
  },
  {
   "cell_type": "markdown",
   "id": "24aea91d-1480-4e1f-b66e-90c54be004fc",
   "metadata": {},
   "source": [
    "## Functions\n",
    "\n",
    "1.\tWrite a function that prints Hello plus a name and greets with time. But name argument should have a default value “World” and time show also have a default value, “morning”. The function should be able to take values to replace name and time.\n",
    "2.\tWrite another function to prints out even numbers from the list of values passed as an argument. \n"
   ]
  },
  {
   "cell_type": "code",
   "execution_count": 84,
   "id": "f4269002",
   "metadata": {},
   "outputs": [
    {
     "name": "stdout",
     "output_type": "stream",
     "text": [
      "Hello world, Good Morning.\n"
     ]
    }
   ],
   "source": [
    "def greeting(name='world',time_show='Morning'):\n",
    "    print(f\"Hello {name}, Good {time_show}.\")\n",
    "greeting()         "
   ]
  },
  {
   "cell_type": "code",
   "execution_count": 90,
   "id": "aaaa2de4",
   "metadata": {},
   "outputs": [
    {
     "data": {
      "text/plain": [
       "[2, 4, 6]"
      ]
     },
     "execution_count": 90,
     "metadata": {},
     "output_type": "execute_result"
    }
   ],
   "source": [
    "def even_number(list):\n",
    "    even=[]\n",
    "    for i in list:\n",
    "        if i%2==0:\n",
    "            even.append(i)\n",
    "    return even\n",
    "z=[1,2,3,4,5,6,7]\n",
    "\n",
    "even_number(z)\n",
    "        "
   ]
  },
  {
   "cell_type": "code",
   "execution_count": null,
   "id": "62f4f1d5-9c02-4714-926d-cbdff41b3724",
   "metadata": {},
   "outputs": [],
   "source": []
  }
 ],
 "metadata": {
  "kernelspec": {
   "display_name": "Python 3 (ipykernel)",
   "language": "python",
   "name": "python3"
  },
  "language_info": {
   "codemirror_mode": {
    "name": "ipython",
    "version": 3
   },
   "file_extension": ".py",
   "mimetype": "text/x-python",
   "name": "python",
   "nbconvert_exporter": "python",
   "pygments_lexer": "ipython3",
   "version": "3.11.2"
  }
 },
 "nbformat": 4,
 "nbformat_minor": 5
}
